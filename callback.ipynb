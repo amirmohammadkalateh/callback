{
  "nbformat": 4,
  "nbformat_minor": 0,
  "metadata": {
    "colab": {
      "provenance": [],
      "authorship_tag": "ABX9TyOUk9riXry3rbCFOTj2JHeV",
      "include_colab_link": true
    },
    "kernelspec": {
      "name": "python3",
      "display_name": "Python 3"
    },
    "language_info": {
      "name": "python"
    }
  },
  "cells": [
    {
      "cell_type": "markdown",
      "metadata": {
        "id": "view-in-github",
        "colab_type": "text"
      },
      "source": [
        "<a href=\"https://colab.research.google.com/github/amirmohammadkalateh/callback/blob/main/callback.ipynb\" target=\"_parent\"><img src=\"https://colab.research.google.com/assets/colab-badge.svg\" alt=\"Open In Colab\"/></a>"
      ]
    },
    {
      "cell_type": "code",
      "execution_count": 2,
      "metadata": {
        "id": "iHjC7Cnsc0yB"
      },
      "outputs": [],
      "source": [
        "import tensorflow as tf\n",
        "from tensorflow import keras\n",
        "from sklearn.model_selection import train_test_split\n",
        "from sklearn.preprocessing import StandardScaler\n"
      ]
    },
    {
      "cell_type": "code",
      "source": [
        "\n",
        "(x_train_full, y_train_full), (x_test, y_test) = keras.datasets.california_housing.load_data()\n",
        "\n",
        "\n",
        "x_train, x_valid, y_train, y_valid = train_test_split(x_train_full, y_train_full, test_size=0.2, random_state=42)\n",
        "\n",
        "scaler = StandardScaler()\n",
        "x_train = scaler.fit_transform(x_train)\n",
        "x_valid = scaler.transform(x_valid)\n",
        "x_test = scaler.transform(x_test)"
      ],
      "metadata": {
        "colab": {
          "base_uri": "https://localhost:8080/"
        },
        "id": "Og3opJYMc9tl",
        "outputId": "1aabbe1e-a8bf-4a39-c0da-e86436343d7e"
      },
      "execution_count": 3,
      "outputs": [
        {
          "output_type": "stream",
          "name": "stdout",
          "text": [
            "Downloading data from https://storage.googleapis.com/tensorflow/tf-keras-datasets/california_housing.npz\n",
            "\u001b[1m743530/743530\u001b[0m \u001b[32m━━━━━━━━━━━━━━━━━━━━\u001b[0m\u001b[37m\u001b[0m \u001b[1m0s\u001b[0m 0us/step\n"
          ]
        }
      ]
    },
    {
      "cell_type": "code",
      "source": [
        "model = keras.models.Sequential([\n",
        "    keras.layers.Dense(30, activation='relu', input_shape=x_train.shape[1:]),\n",
        "    keras.layers.Dense(1)\n",
        "])"
      ],
      "metadata": {
        "colab": {
          "base_uri": "https://localhost:8080/"
        },
        "id": "6Htr22gcdQLh",
        "outputId": "088f59b2-5b92-4d0b-f289-a240ba1da804"
      },
      "execution_count": 4,
      "outputs": [
        {
          "output_type": "stream",
          "name": "stderr",
          "text": [
            "/usr/local/lib/python3.11/dist-packages/keras/src/layers/core/dense.py:87: UserWarning: Do not pass an `input_shape`/`input_dim` argument to a layer. When using Sequential models, prefer using an `Input(shape)` object as the first layer in the model instead.\n",
            "  super().__init__(activity_regularizer=activity_regularizer, **kwargs)\n"
          ]
        }
      ]
    },
    {
      "cell_type": "code",
      "source": [
        "model.compile(loss='mse',\n",
        "              optimizer='adam',\n",
        "              metrics=['mae']\n",
        "              )"
      ],
      "metadata": {
        "id": "fIu651i1dSC3"
      },
      "execution_count": 5,
      "outputs": []
    },
    {
      "cell_type": "code",
      "source": [
        "early_stopping_cb = keras.callbacks.EarlyStopping(patience=10, restore_best_weights=True)"
      ],
      "metadata": {
        "id": "bE6GKs78dYzl"
      },
      "execution_count": 6,
      "outputs": []
    },
    {
      "cell_type": "code",
      "source": [
        "history = model.fit(x_train, y_train, epochs=100,\n",
        "                    validation_data=(x_valid, y_valid),\n",
        "                    callbacks=[early_stopping_cb])"
      ],
      "metadata": {
        "colab": {
          "base_uri": "https://localhost:8080/"
        },
        "id": "-pvm_LtRda8X",
        "outputId": "cf4b0b8e-9a34-4f0f-a353-d42adff88a08"
      },
      "execution_count": 7,
      "outputs": [
        {
          "output_type": "stream",
          "name": "stdout",
          "text": [
            "Epoch 1/100\n",
            "\u001b[1m413/413\u001b[0m \u001b[32m━━━━━━━━━━━━━━━━━━━━\u001b[0m\u001b[37m\u001b[0m \u001b[1m3s\u001b[0m 4ms/step - loss: 55825895424.0000 - mae: 206441.7500 - val_loss: 55619833856.0000 - val_mae: 206053.7656\n",
            "Epoch 2/100\n",
            "\u001b[1m413/413\u001b[0m \u001b[32m━━━━━━━━━━━━━━━━━━━━\u001b[0m\u001b[37m\u001b[0m \u001b[1m1s\u001b[0m 3ms/step - loss: 56643973120.0000 - mae: 207928.1719 - val_loss: 55593979904.0000 - val_mae: 205997.0625\n",
            "Epoch 3/100\n",
            "\u001b[1m413/413\u001b[0m \u001b[32m━━━━━━━━━━━━━━━━━━━━\u001b[0m\u001b[37m\u001b[0m \u001b[1m2s\u001b[0m 4ms/step - loss: 55547584512.0000 - mae: 206062.1875 - val_loss: 55551004672.0000 - val_mae: 205903.0781\n",
            "Epoch 4/100\n",
            "\u001b[1m413/413\u001b[0m \u001b[32m━━━━━━━━━━━━━━━━━━━━\u001b[0m\u001b[37m\u001b[0m \u001b[1m2s\u001b[0m 3ms/step - loss: 56256798720.0000 - mae: 206591.0469 - val_loss: 55493586944.0000 - val_mae: 205777.9219\n",
            "Epoch 5/100\n",
            "\u001b[1m413/413\u001b[0m \u001b[32m━━━━━━━━━━━━━━━━━━━━\u001b[0m\u001b[37m\u001b[0m \u001b[1m1s\u001b[0m 3ms/step - loss: 57299591168.0000 - mae: 209089.7031 - val_loss: 55423959040.0000 - val_mae: 205626.3438\n",
            "Epoch 6/100\n",
            "\u001b[1m413/413\u001b[0m \u001b[32m━━━━━━━━━━━━━━━━━━━━\u001b[0m\u001b[37m\u001b[0m \u001b[1m2s\u001b[0m 4ms/step - loss: 55389462528.0000 - mae: 205677.5625 - val_loss: 55342907392.0000 - val_mae: 205449.9062\n",
            "Epoch 7/100\n",
            "\u001b[1m413/413\u001b[0m \u001b[32m━━━━━━━━━━━━━━━━━━━━\u001b[0m\u001b[37m\u001b[0m \u001b[1m3s\u001b[0m 5ms/step - loss: 54956929024.0000 - mae: 204941.2500 - val_loss: 55251427328.0000 - val_mae: 205250.7500\n",
            "Epoch 8/100\n",
            "\u001b[1m413/413\u001b[0m \u001b[32m━━━━━━━━━━━━━━━━━━━━\u001b[0m\u001b[37m\u001b[0m \u001b[1m3s\u001b[0m 6ms/step - loss: 55087636480.0000 - mae: 204930.8906 - val_loss: 55150292992.0000 - val_mae: 205030.3281\n",
            "Epoch 9/100\n",
            "\u001b[1m413/413\u001b[0m \u001b[32m━━━━━━━━━━━━━━━━━━━━\u001b[0m\u001b[37m\u001b[0m \u001b[1m3s\u001b[0m 7ms/step - loss: 56114270208.0000 - mae: 206549.7188 - val_loss: 55039950848.0000 - val_mae: 204789.5625\n",
            "Epoch 10/100\n",
            "\u001b[1m413/413\u001b[0m \u001b[32m━━━━━━━━━━━━━━━━━━━━\u001b[0m\u001b[37m\u001b[0m \u001b[1m7s\u001b[0m 10ms/step - loss: 54926946304.0000 - mae: 204057.8750 - val_loss: 54921162752.0000 - val_mae: 204530.1250\n",
            "Epoch 11/100\n",
            "\u001b[1m413/413\u001b[0m \u001b[32m━━━━━━━━━━━━━━━━━━━━\u001b[0m\u001b[37m\u001b[0m \u001b[1m2s\u001b[0m 5ms/step - loss: 55567503360.0000 - mae: 206181.1094 - val_loss: 54791651328.0000 - val_mae: 204246.9219\n",
            "Epoch 12/100\n",
            "\u001b[1m413/413\u001b[0m \u001b[32m━━━━━━━━━━━━━━━━━━━━\u001b[0m\u001b[37m\u001b[0m \u001b[1m3s\u001b[0m 7ms/step - loss: 55603859456.0000 - mae: 205421.8438 - val_loss: 54653104128.0000 - val_mae: 203943.7031\n",
            "Epoch 13/100\n",
            "\u001b[1m413/413\u001b[0m \u001b[32m━━━━━━━━━━━━━━━━━━━━\u001b[0m\u001b[37m\u001b[0m \u001b[1m3s\u001b[0m 3ms/step - loss: 54624980992.0000 - mae: 203539.3594 - val_loss: 54506299392.0000 - val_mae: 203621.9062\n",
            "Epoch 14/100\n",
            "\u001b[1m413/413\u001b[0m \u001b[32m━━━━━━━━━━━━━━━━━━━━\u001b[0m\u001b[37m\u001b[0m \u001b[1m3s\u001b[0m 4ms/step - loss: 54944497664.0000 - mae: 204910.2031 - val_loss: 54351572992.0000 - val_mae: 203281.9375\n",
            "Epoch 15/100\n",
            "\u001b[1m413/413\u001b[0m \u001b[32m━━━━━━━━━━━━━━━━━━━━\u001b[0m\u001b[37m\u001b[0m \u001b[1m2s\u001b[0m 3ms/step - loss: 55843405824.0000 - mae: 205875.5156 - val_loss: 54188736512.0000 - val_mae: 202923.5156\n",
            "Epoch 16/100\n",
            "\u001b[1m413/413\u001b[0m \u001b[32m━━━━━━━━━━━━━━━━━━━━\u001b[0m\u001b[37m\u001b[0m \u001b[1m3s\u001b[0m 3ms/step - loss: 54147305472.0000 - mae: 202490.0000 - val_loss: 54017617920.0000 - val_mae: 202546.0469\n",
            "Epoch 17/100\n",
            "\u001b[1m413/413\u001b[0m \u001b[32m━━━━━━━━━━━━━━━━━━━━\u001b[0m\u001b[37m\u001b[0m \u001b[1m3s\u001b[0m 3ms/step - loss: 54918397952.0000 - mae: 203928.4531 - val_loss: 53838831616.0000 - val_mae: 202150.9531\n",
            "Epoch 18/100\n",
            "\u001b[1m413/413\u001b[0m \u001b[32m━━━━━━━━━━━━━━━━━━━━\u001b[0m\u001b[37m\u001b[0m \u001b[1m3s\u001b[0m 4ms/step - loss: 54393311232.0000 - mae: 203156.3594 - val_loss: 53652860928.0000 - val_mae: 201738.8750\n",
            "Epoch 19/100\n",
            "\u001b[1m413/413\u001b[0m \u001b[32m━━━━━━━━━━━━━━━━━━━━\u001b[0m\u001b[37m\u001b[0m \u001b[1m2s\u001b[0m 3ms/step - loss: 54080323584.0000 - mae: 202277.1562 - val_loss: 53459185664.0000 - val_mae: 201308.5469\n",
            "Epoch 20/100\n",
            "\u001b[1m413/413\u001b[0m \u001b[32m━━━━━━━━━━━━━━━━━━━━\u001b[0m\u001b[37m\u001b[0m \u001b[1m1s\u001b[0m 3ms/step - loss: 54005178368.0000 - mae: 202154.7500 - val_loss: 53257596928.0000 - val_mae: 200859.7500\n",
            "Epoch 21/100\n",
            "\u001b[1m413/413\u001b[0m \u001b[32m━━━━━━━━━━━━━━━━━━━━\u001b[0m\u001b[37m\u001b[0m \u001b[1m3s\u001b[0m 3ms/step - loss: 52966363136.0000 - mae: 200347.1719 - val_loss: 53048520704.0000 - val_mae: 200392.7344\n",
            "Epoch 22/100\n",
            "\u001b[1m413/413\u001b[0m \u001b[32m━━━━━━━━━━━━━━━━━━━━\u001b[0m\u001b[37m\u001b[0m \u001b[1m3s\u001b[0m 3ms/step - loss: 53341257728.0000 - mae: 200614.5938 - val_loss: 52832907264.0000 - val_mae: 199909.5938\n",
            "Epoch 23/100\n",
            "\u001b[1m413/413\u001b[0m \u001b[32m━━━━━━━━━━━━━━━━━━━━\u001b[0m\u001b[37m\u001b[0m \u001b[1m2s\u001b[0m 3ms/step - loss: 53369249792.0000 - mae: 200197.0156 - val_loss: 52609773568.0000 - val_mae: 199408.3750\n",
            "Epoch 24/100\n",
            "\u001b[1m413/413\u001b[0m \u001b[32m━━━━━━━━━━━━━━━━━━━━\u001b[0m\u001b[37m\u001b[0m \u001b[1m2s\u001b[0m 5ms/step - loss: 53026213888.0000 - mae: 200379.7656 - val_loss: 52380073984.0000 - val_mae: 198890.3438\n",
            "Epoch 25/100\n",
            "\u001b[1m413/413\u001b[0m \u001b[32m━━━━━━━━━━━━━━━━━━━━\u001b[0m\u001b[37m\u001b[0m \u001b[1m2s\u001b[0m 4ms/step - loss: 53361229824.0000 - mae: 200094.8906 - val_loss: 52143206400.0000 - val_mae: 198354.7344\n",
            "Epoch 26/100\n",
            "\u001b[1m413/413\u001b[0m \u001b[32m━━━━━━━━━━━━━━━━━━━━\u001b[0m\u001b[37m\u001b[0m \u001b[1m1s\u001b[0m 3ms/step - loss: 51798278144.0000 - mae: 197289.2500 - val_loss: 51899764736.0000 - val_mae: 197802.6406\n",
            "Epoch 27/100\n",
            "\u001b[1m413/413\u001b[0m \u001b[32m━━━━━━━━━━━━━━━━━━━━\u001b[0m\u001b[37m\u001b[0m \u001b[1m3s\u001b[0m 4ms/step - loss: 52191768576.0000 - mae: 197961.8438 - val_loss: 51649204224.0000 - val_mae: 197232.0469\n",
            "Epoch 28/100\n",
            "\u001b[1m413/413\u001b[0m \u001b[32m━━━━━━━━━━━━━━━━━━━━\u001b[0m\u001b[37m\u001b[0m \u001b[1m2s\u001b[0m 3ms/step - loss: 52393652224.0000 - mae: 198607.0938 - val_loss: 51392598016.0000 - val_mae: 196645.8281\n",
            "Epoch 29/100\n",
            "\u001b[1m413/413\u001b[0m \u001b[32m━━━━━━━━━━━━━━━━━━━━\u001b[0m\u001b[37m\u001b[0m \u001b[1m3s\u001b[0m 3ms/step - loss: 52344664064.0000 - mae: 198275.0781 - val_loss: 51130085376.0000 - val_mae: 196043.8438\n",
            "Epoch 30/100\n",
            "\u001b[1m413/413\u001b[0m \u001b[32m━━━━━━━━━━━━━━━━━━━━\u001b[0m\u001b[37m\u001b[0m \u001b[1m3s\u001b[0m 5ms/step - loss: 51297525760.0000 - mae: 196171.9062 - val_loss: 50859548672.0000 - val_mae: 195421.0625\n",
            "Epoch 31/100\n",
            "\u001b[1m413/413\u001b[0m \u001b[32m━━━━━━━━━━━━━━━━━━━━\u001b[0m\u001b[37m\u001b[0m \u001b[1m2s\u001b[0m 3ms/step - loss: 51305447424.0000 - mae: 195702.8594 - val_loss: 50584051712.0000 - val_mae: 194784.4688\n",
            "Epoch 32/100\n",
            "\u001b[1m413/413\u001b[0m \u001b[32m━━━━━━━━━━━━━━━━━━━━\u001b[0m\u001b[37m\u001b[0m \u001b[1m1s\u001b[0m 3ms/step - loss: 50565541888.0000 - mae: 194636.2969 - val_loss: 50301358080.0000 - val_mae: 194129.0156\n",
            "Epoch 33/100\n",
            "\u001b[1m413/413\u001b[0m \u001b[32m━━━━━━━━━━━━━━━━━━━━\u001b[0m\u001b[37m\u001b[0m \u001b[1m1s\u001b[0m 3ms/step - loss: 51239194624.0000 - mae: 196139.2812 - val_loss: 50013495296.0000 - val_mae: 193458.7031\n",
            "Epoch 34/100\n",
            "\u001b[1m413/413\u001b[0m \u001b[32m━━━━━━━━━━━━━━━━━━━━\u001b[0m\u001b[37m\u001b[0m \u001b[1m1s\u001b[0m 3ms/step - loss: 50813521920.0000 - mae: 194559.4844 - val_loss: 49719435264.0000 - val_mae: 192770.6562\n",
            "Epoch 35/100\n",
            "\u001b[1m413/413\u001b[0m \u001b[32m━━━━━━━━━━━━━━━━━━━━\u001b[0m\u001b[37m\u001b[0m \u001b[1m2s\u001b[0m 4ms/step - loss: 50166075392.0000 - mae: 193393.0781 - val_loss: 49419563008.0000 - val_mae: 192065.8594\n",
            "Epoch 36/100\n",
            "\u001b[1m413/413\u001b[0m \u001b[32m━━━━━━━━━━━━━━━━━━━━\u001b[0m\u001b[37m\u001b[0m \u001b[1m3s\u001b[0m 4ms/step - loss: 49918935040.0000 - mae: 192374.1875 - val_loss: 49114615808.0000 - val_mae: 191346.1094\n",
            "Epoch 37/100\n",
            "\u001b[1m413/413\u001b[0m \u001b[32m━━━━━━━━━━━━━━━━━━━━\u001b[0m\u001b[37m\u001b[0m \u001b[1m2s\u001b[0m 4ms/step - loss: 49293467648.0000 - mae: 191778.2031 - val_loss: 48803688448.0000 - val_mae: 190608.3906\n",
            "Epoch 38/100\n",
            "\u001b[1m413/413\u001b[0m \u001b[32m━━━━━━━━━━━━━━━━━━━━\u001b[0m\u001b[37m\u001b[0m \u001b[1m2s\u001b[0m 3ms/step - loss: 49704402944.0000 - mae: 191783.8594 - val_loss: 48487407616.0000 - val_mae: 189855.8281\n",
            "Epoch 39/100\n",
            "\u001b[1m413/413\u001b[0m \u001b[32m━━━━━━━━━━━━━━━━━━━━\u001b[0m\u001b[37m\u001b[0m \u001b[1m3s\u001b[0m 3ms/step - loss: 48818339840.0000 - mae: 190768.9219 - val_loss: 48165969920.0000 - val_mae: 189089.0312\n",
            "Epoch 40/100\n",
            "\u001b[1m413/413\u001b[0m \u001b[32m━━━━━━━━━━━━━━━━━━━━\u001b[0m\u001b[37m\u001b[0m \u001b[1m3s\u001b[0m 3ms/step - loss: 48291282944.0000 - mae: 188953.4062 - val_loss: 47838867456.0000 - val_mae: 188305.0000\n",
            "Epoch 41/100\n",
            "\u001b[1m413/413\u001b[0m \u001b[32m━━━━━━━━━━━━━━━━━━━━\u001b[0m\u001b[37m\u001b[0m \u001b[1m3s\u001b[0m 4ms/step - loss: 48198868992.0000 - mae: 189104.5000 - val_loss: 47507091456.0000 - val_mae: 187505.3125\n",
            "Epoch 42/100\n",
            "\u001b[1m413/413\u001b[0m \u001b[32m━━━━━━━━━━━━━━━━━━━━\u001b[0m\u001b[37m\u001b[0m \u001b[1m2s\u001b[0m 3ms/step - loss: 47324712960.0000 - mae: 186905.8594 - val_loss: 47170035712.0000 - val_mae: 186688.7188\n",
            "Epoch 43/100\n",
            "\u001b[1m413/413\u001b[0m \u001b[32m━━━━━━━━━━━━━━━━━━━━\u001b[0m\u001b[37m\u001b[0m \u001b[1m3s\u001b[0m 3ms/step - loss: 47707398144.0000 - mae: 187305.8281 - val_loss: 46828400640.0000 - val_mae: 185855.9688\n",
            "Epoch 44/100\n",
            "\u001b[1m413/413\u001b[0m \u001b[32m━━━━━━━━━━━━━━━━━━━━\u001b[0m\u001b[37m\u001b[0m \u001b[1m3s\u001b[0m 4ms/step - loss: 47209508864.0000 - mae: 186274.2500 - val_loss: 46481625088.0000 - val_mae: 185006.5469\n",
            "Epoch 45/100\n",
            "\u001b[1m413/413\u001b[0m \u001b[32m━━━━━━━━━━━━━━━━━━━━\u001b[0m\u001b[37m\u001b[0m \u001b[1m1s\u001b[0m 3ms/step - loss: 46767501312.0000 - mae: 185827.3594 - val_loss: 46130016256.0000 - val_mae: 184140.6875\n",
            "Epoch 46/100\n",
            "\u001b[1m413/413\u001b[0m \u001b[32m━━━━━━━━━━━━━━━━━━━━\u001b[0m\u001b[37m\u001b[0m \u001b[1m3s\u001b[0m 4ms/step - loss: 46625898496.0000 - mae: 184766.3750 - val_loss: 45775163392.0000 - val_mae: 183261.1562\n",
            "Epoch 47/100\n",
            "\u001b[1m413/413\u001b[0m \u001b[32m━━━━━━━━━━━━━━━━━━━━\u001b[0m\u001b[37m\u001b[0m \u001b[1m2s\u001b[0m 5ms/step - loss: 45833412608.0000 - mae: 182891.6875 - val_loss: 45416402944.0000 - val_mae: 182366.7344\n",
            "Epoch 48/100\n",
            "\u001b[1m413/413\u001b[0m \u001b[32m━━━━━━━━━━━━━━━━━━━━\u001b[0m\u001b[37m\u001b[0m \u001b[1m2s\u001b[0m 4ms/step - loss: 45338808320.0000 - mae: 182222.5938 - val_loss: 45052035072.0000 - val_mae: 181453.7969\n",
            "Epoch 49/100\n",
            "\u001b[1m413/413\u001b[0m \u001b[32m━━━━━━━━━━━━━━━━━━━━\u001b[0m\u001b[37m\u001b[0m \u001b[1m2s\u001b[0m 3ms/step - loss: 45409984512.0000 - mae: 181627.5938 - val_loss: 44685344768.0000 - val_mae: 180528.8906\n",
            "Epoch 50/100\n",
            "\u001b[1m413/413\u001b[0m \u001b[32m━━━━━━━━━━━━━━━━━━━━\u001b[0m\u001b[37m\u001b[0m \u001b[1m1s\u001b[0m 3ms/step - loss: 45263552512.0000 - mae: 181535.9219 - val_loss: 44314431488.0000 - val_mae: 179591.1250\n",
            "Epoch 51/100\n",
            "\u001b[1m413/413\u001b[0m \u001b[32m━━━━━━━━━━━━━━━━━━━━\u001b[0m\u001b[37m\u001b[0m \u001b[1m3s\u001b[0m 3ms/step - loss: 44712787968.0000 - mae: 180187.2031 - val_loss: 43939913728.0000 - val_mae: 178638.0156\n",
            "Epoch 52/100\n",
            "\u001b[1m413/413\u001b[0m \u001b[32m━━━━━━━━━━━━━━━━━━━━\u001b[0m\u001b[37m\u001b[0m \u001b[1m3s\u001b[0m 5ms/step - loss: 44182507520.0000 - mae: 179215.2031 - val_loss: 43561517056.0000 - val_mae: 177672.7969\n",
            "Epoch 53/100\n",
            "\u001b[1m413/413\u001b[0m \u001b[32m━━━━━━━━━━━━━━━━━━━━\u001b[0m\u001b[37m\u001b[0m \u001b[1m2s\u001b[0m 3ms/step - loss: 44035600384.0000 - mae: 178791.2500 - val_loss: 43179343872.0000 - val_mae: 176694.5625\n",
            "Epoch 54/100\n",
            "\u001b[1m413/413\u001b[0m \u001b[32m━━━━━━━━━━━━━━━━━━━━\u001b[0m\u001b[37m\u001b[0m \u001b[1m2s\u001b[0m 3ms/step - loss: 43597017088.0000 - mae: 177523.9688 - val_loss: 42794176512.0000 - val_mae: 175701.5781\n",
            "Epoch 55/100\n",
            "\u001b[1m413/413\u001b[0m \u001b[32m━━━━━━━━━━━━━━━━━━━━\u001b[0m\u001b[37m\u001b[0m \u001b[1m1s\u001b[0m 3ms/step - loss: 43240157184.0000 - mae: 176364.1875 - val_loss: 42406248448.0000 - val_mae: 174695.2500\n",
            "Epoch 56/100\n",
            "\u001b[1m413/413\u001b[0m \u001b[32m━━━━━━━━━━━━━━━━━━━━\u001b[0m\u001b[37m\u001b[0m \u001b[1m1s\u001b[0m 3ms/step - loss: 43378929664.0000 - mae: 176642.5938 - val_loss: 42015297536.0000 - val_mae: 173676.9688\n",
            "Epoch 57/100\n",
            "\u001b[1m413/413\u001b[0m \u001b[32m━━━━━━━━━━━━━━━━━━━━\u001b[0m\u001b[37m\u001b[0m \u001b[1m3s\u001b[0m 3ms/step - loss: 42546864128.0000 - mae: 174701.1875 - val_loss: 41621106688.0000 - val_mae: 172646.2031\n",
            "Epoch 58/100\n",
            "\u001b[1m413/413\u001b[0m \u001b[32m━━━━━━━━━━━━━━━━━━━━\u001b[0m\u001b[37m\u001b[0m \u001b[1m1s\u001b[0m 3ms/step - loss: 41740349440.0000 - mae: 172398.2656 - val_loss: 41225814016.0000 - val_mae: 171606.3438\n",
            "Epoch 59/100\n",
            "\u001b[1m413/413\u001b[0m \u001b[32m━━━━━━━━━━━━━━━━━━━━\u001b[0m\u001b[37m\u001b[0m \u001b[1m3s\u001b[0m 3ms/step - loss: 41902444544.0000 - mae: 173169.0469 - val_loss: 40826871808.0000 - val_mae: 170552.0625\n",
            "Epoch 60/100\n",
            "\u001b[1m413/413\u001b[0m \u001b[32m━━━━━━━━━━━━━━━━━━━━\u001b[0m\u001b[37m\u001b[0m \u001b[1m1s\u001b[0m 3ms/step - loss: 41403068416.0000 - mae: 172216.8594 - val_loss: 40426110976.0000 - val_mae: 169485.3281\n",
            "Epoch 61/100\n",
            "\u001b[1m413/413\u001b[0m \u001b[32m━━━━━━━━━━━━━━━━━━━━\u001b[0m\u001b[37m\u001b[0m \u001b[1m1s\u001b[0m 3ms/step - loss: 41000734720.0000 - mae: 170386.6562 - val_loss: 40023023616.0000 - val_mae: 168410.1719\n",
            "Epoch 62/100\n",
            "\u001b[1m413/413\u001b[0m \u001b[32m━━━━━━━━━━━━━━━━━━━━\u001b[0m\u001b[37m\u001b[0m \u001b[1m3s\u001b[0m 3ms/step - loss: 40998318080.0000 - mae: 170663.7188 - val_loss: 39618232320.0000 - val_mae: 167332.2344\n",
            "Epoch 63/100\n",
            "\u001b[1m413/413\u001b[0m \u001b[32m━━━━━━━━━━━━━━━━━━━━\u001b[0m\u001b[37m\u001b[0m \u001b[1m3s\u001b[0m 4ms/step - loss: 39973769216.0000 - mae: 168054.7812 - val_loss: 39212376064.0000 - val_mae: 166246.3906\n",
            "Epoch 64/100\n",
            "\u001b[1m413/413\u001b[0m \u001b[32m━━━━━━━━━━━━━━━━━━━━\u001b[0m\u001b[37m\u001b[0m \u001b[1m3s\u001b[0m 5ms/step - loss: 39528591360.0000 - mae: 166915.1562 - val_loss: 38803259392.0000 - val_mae: 165147.0312\n",
            "Epoch 65/100\n",
            "\u001b[1m413/413\u001b[0m \u001b[32m━━━━━━━━━━━━━━━━━━━━\u001b[0m\u001b[37m\u001b[0m \u001b[1m2s\u001b[0m 3ms/step - loss: 39302557696.0000 - mae: 165807.7969 - val_loss: 38392635392.0000 - val_mae: 164037.4219\n",
            "Epoch 66/100\n",
            "\u001b[1m413/413\u001b[0m \u001b[32m━━━━━━━━━━━━━━━━━━━━\u001b[0m\u001b[37m\u001b[0m \u001b[1m3s\u001b[0m 3ms/step - loss: 38391779328.0000 - mae: 163729.4062 - val_loss: 37981560832.0000 - val_mae: 162920.1094\n",
            "Epoch 67/100\n",
            "\u001b[1m413/413\u001b[0m \u001b[32m━━━━━━━━━━━━━━━━━━━━\u001b[0m\u001b[37m\u001b[0m \u001b[1m2s\u001b[0m 3ms/step - loss: 37678673920.0000 - mae: 162432.8125 - val_loss: 37568950272.0000 - val_mae: 161793.9219\n",
            "Epoch 68/100\n",
            "\u001b[1m413/413\u001b[0m \u001b[32m━━━━━━━━━━━━━━━━━━━━\u001b[0m\u001b[37m\u001b[0m \u001b[1m1s\u001b[0m 3ms/step - loss: 37719588864.0000 - mae: 161931.8438 - val_loss: 37155340288.0000 - val_mae: 160656.5938\n",
            "Epoch 69/100\n",
            "\u001b[1m413/413\u001b[0m \u001b[32m━━━━━━━━━━━━━━━━━━━━\u001b[0m\u001b[37m\u001b[0m \u001b[1m1s\u001b[0m 3ms/step - loss: 37358440448.0000 - mae: 160862.9531 - val_loss: 36741980160.0000 - val_mae: 159510.8750\n",
            "Epoch 70/100\n",
            "\u001b[1m413/413\u001b[0m \u001b[32m━━━━━━━━━━━━━━━━━━━━\u001b[0m\u001b[37m\u001b[0m \u001b[1m1s\u001b[0m 3ms/step - loss: 37197017088.0000 - mae: 160095.5469 - val_loss: 36327174144.0000 - val_mae: 158354.5312\n",
            "Epoch 71/100\n",
            "\u001b[1m413/413\u001b[0m \u001b[32m━━━━━━━━━━━━━━━━━━━━\u001b[0m\u001b[37m\u001b[0m \u001b[1m2s\u001b[0m 3ms/step - loss: 36883181568.0000 - mae: 159952.6250 - val_loss: 35912163328.0000 - val_mae: 157199.9531\n",
            "Epoch 72/100\n",
            "\u001b[1m413/413\u001b[0m \u001b[32m━━━━━━━━━━━━━━━━━━━━\u001b[0m\u001b[37m\u001b[0m \u001b[1m1s\u001b[0m 3ms/step - loss: 36610433024.0000 - mae: 158701.3281 - val_loss: 35496837120.0000 - val_mae: 156047.9219\n",
            "Epoch 73/100\n",
            "\u001b[1m413/413\u001b[0m \u001b[32m━━━━━━━━━━━━━━━━━━━━\u001b[0m\u001b[37m\u001b[0m \u001b[1m1s\u001b[0m 3ms/step - loss: 36246355968.0000 - mae: 157759.0156 - val_loss: 35081748480.0000 - val_mae: 154892.4688\n",
            "Epoch 74/100\n",
            "\u001b[1m413/413\u001b[0m \u001b[32m━━━━━━━━━━━━━━━━━━━━\u001b[0m\u001b[37m\u001b[0m \u001b[1m1s\u001b[0m 3ms/step - loss: 35114221568.0000 - mae: 154752.4219 - val_loss: 34665594880.0000 - val_mae: 153727.9375\n",
            "Epoch 75/100\n",
            "\u001b[1m413/413\u001b[0m \u001b[32m━━━━━━━━━━━━━━━━━━━━\u001b[0m\u001b[37m\u001b[0m \u001b[1m3s\u001b[0m 3ms/step - loss: 35528470528.0000 - mae: 155723.8281 - val_loss: 34250592256.0000 - val_mae: 152558.2969\n",
            "Epoch 76/100\n",
            "\u001b[1m413/413\u001b[0m \u001b[32m━━━━━━━━━━━━━━━━━━━━\u001b[0m\u001b[37m\u001b[0m \u001b[1m2s\u001b[0m 2ms/step - loss: 34474242048.0000 - mae: 153251.8125 - val_loss: 33835264000.0000 - val_mae: 151380.2344\n",
            "Epoch 77/100\n",
            "\u001b[1m413/413\u001b[0m \u001b[32m━━━━━━━━━━━━━━━━━━━━\u001b[0m\u001b[37m\u001b[0m \u001b[1m2s\u001b[0m 4ms/step - loss: 35039727616.0000 - mae: 154129.9062 - val_loss: 33421406208.0000 - val_mae: 150200.0781\n",
            "Epoch 78/100\n",
            "\u001b[1m413/413\u001b[0m \u001b[32m━━━━━━━━━━━━━━━━━━━━\u001b[0m\u001b[37m\u001b[0m \u001b[1m2s\u001b[0m 3ms/step - loss: 33970475008.0000 - mae: 151706.5781 - val_loss: 33007607808.0000 - val_mae: 149012.0469\n",
            "Epoch 79/100\n",
            "\u001b[1m413/413\u001b[0m \u001b[32m━━━━━━━━━━━━━━━━━━━━\u001b[0m\u001b[37m\u001b[0m \u001b[1m2s\u001b[0m 3ms/step - loss: 33141555200.0000 - mae: 149630.4062 - val_loss: 32593860608.0000 - val_mae: 147817.7812\n",
            "Epoch 80/100\n",
            "\u001b[1m413/413\u001b[0m \u001b[32m━━━━━━━━━━━━━━━━━━━━\u001b[0m\u001b[37m\u001b[0m \u001b[1m2s\u001b[0m 3ms/step - loss: 33020581888.0000 - mae: 149071.7500 - val_loss: 32181768192.0000 - val_mae: 146618.0469\n",
            "Epoch 81/100\n",
            "\u001b[1m413/413\u001b[0m \u001b[32m━━━━━━━━━━━━━━━━━━━━\u001b[0m\u001b[37m\u001b[0m \u001b[1m1s\u001b[0m 3ms/step - loss: 32423618560.0000 - mae: 147280.6406 - val_loss: 31770912768.0000 - val_mae: 145414.8125\n",
            "Epoch 82/100\n",
            "\u001b[1m413/413\u001b[0m \u001b[32m━━━━━━━━━━━━━━━━━━━━\u001b[0m\u001b[37m\u001b[0m \u001b[1m1s\u001b[0m 3ms/step - loss: 32132835328.0000 - mae: 145783.4688 - val_loss: 31360499712.0000 - val_mae: 144209.0000\n",
            "Epoch 83/100\n",
            "\u001b[1m413/413\u001b[0m \u001b[32m━━━━━━━━━━━━━━━━━━━━\u001b[0m\u001b[37m\u001b[0m \u001b[1m1s\u001b[0m 3ms/step - loss: 31395809280.0000 - mae: 144065.1562 - val_loss: 30950506496.0000 - val_mae: 143003.3438\n",
            "Epoch 84/100\n",
            "\u001b[1m413/413\u001b[0m \u001b[32m━━━━━━━━━━━━━━━━━━━━\u001b[0m\u001b[37m\u001b[0m \u001b[1m3s\u001b[0m 4ms/step - loss: 31269033984.0000 - mae: 144370.9531 - val_loss: 30543888384.0000 - val_mae: 141799.4844\n",
            "Epoch 85/100\n",
            "\u001b[1m413/413\u001b[0m \u001b[32m━━━━━━━━━━━━━━━━━━━━\u001b[0m\u001b[37m\u001b[0m \u001b[1m1s\u001b[0m 3ms/step - loss: 31305695232.0000 - mae: 143313.8438 - val_loss: 30138071040.0000 - val_mae: 140590.2500\n",
            "Epoch 86/100\n",
            "\u001b[1m413/413\u001b[0m \u001b[32m━━━━━━━━━━━━━━━━━━━━\u001b[0m\u001b[37m\u001b[0m \u001b[1m1s\u001b[0m 4ms/step - loss: 29879209984.0000 - mae: 139903.9844 - val_loss: 29732827136.0000 - val_mae: 139376.9531\n",
            "Epoch 87/100\n",
            "\u001b[1m413/413\u001b[0m \u001b[32m━━━━━━━━━━━━━━━━━━━━\u001b[0m\u001b[37m\u001b[0m \u001b[1m2s\u001b[0m 3ms/step - loss: 29855240192.0000 - mae: 139714.5938 - val_loss: 29331140608.0000 - val_mae: 138161.8281\n",
            "Epoch 88/100\n",
            "\u001b[1m413/413\u001b[0m \u001b[32m━━━━━━━━━━━━━━━━━━━━\u001b[0m\u001b[37m\u001b[0m \u001b[1m1s\u001b[0m 3ms/step - loss: 30221586432.0000 - mae: 140154.7188 - val_loss: 28932560896.0000 - val_mae: 136947.4688\n",
            "Epoch 89/100\n",
            "\u001b[1m413/413\u001b[0m \u001b[32m━━━━━━━━━━━━━━━━━━━━\u001b[0m\u001b[37m\u001b[0m \u001b[1m2s\u001b[0m 4ms/step - loss: 29782730752.0000 - mae: 138892.2031 - val_loss: 28534075392.0000 - val_mae: 135730.5000\n",
            "Epoch 90/100\n",
            "\u001b[1m413/413\u001b[0m \u001b[32m━━━━━━━━━━━━━━━━━━━━\u001b[0m\u001b[37m\u001b[0m \u001b[1m3s\u001b[0m 6ms/step - loss: 29045639168.0000 - mae: 136882.5625 - val_loss: 28138143744.0000 - val_mae: 134519.7188\n",
            "Epoch 91/100\n",
            "\u001b[1m413/413\u001b[0m \u001b[32m━━━━━━━━━━━━━━━━━━━━\u001b[0m\u001b[37m\u001b[0m \u001b[1m1s\u001b[0m 3ms/step - loss: 29376454656.0000 - mae: 137122.0938 - val_loss: 27744233472.0000 - val_mae: 133310.8438\n",
            "Epoch 92/100\n",
            "\u001b[1m413/413\u001b[0m \u001b[32m━━━━━━━━━━━━━━━━━━━━\u001b[0m\u001b[37m\u001b[0m \u001b[1m3s\u001b[0m 3ms/step - loss: 28610111488.0000 - mae: 135454.9062 - val_loss: 27352332288.0000 - val_mae: 132103.2031\n",
            "Epoch 93/100\n",
            "\u001b[1m413/413\u001b[0m \u001b[32m━━━━━━━━━━━━━━━━━━━━\u001b[0m\u001b[37m\u001b[0m \u001b[1m1s\u001b[0m 3ms/step - loss: 28062396416.0000 - mae: 133838.1562 - val_loss: 26965622784.0000 - val_mae: 130903.2188\n",
            "Epoch 94/100\n",
            "\u001b[1m413/413\u001b[0m \u001b[32m━━━━━━━━━━━━━━━━━━━━\u001b[0m\u001b[37m\u001b[0m \u001b[1m1s\u001b[0m 3ms/step - loss: 27019141120.0000 - mae: 130748.1328 - val_loss: 26580348928.0000 - val_mae: 129700.5156\n",
            "Epoch 95/100\n",
            "\u001b[1m413/413\u001b[0m \u001b[32m━━━━━━━━━━━━━━━━━━━━\u001b[0m\u001b[37m\u001b[0m \u001b[1m3s\u001b[0m 3ms/step - loss: 26952943616.0000 - mae: 130055.5156 - val_loss: 26198599680.0000 - val_mae: 128502.5312\n",
            "Epoch 96/100\n",
            "\u001b[1m413/413\u001b[0m \u001b[32m━━━━━━━━━━━━━━━━━━━━\u001b[0m\u001b[37m\u001b[0m \u001b[1m3s\u001b[0m 5ms/step - loss: 26974103552.0000 - mae: 129938.4766 - val_loss: 25819551744.0000 - val_mae: 127309.6484\n",
            "Epoch 97/100\n",
            "\u001b[1m413/413\u001b[0m \u001b[32m━━━━━━━━━━━━━━━━━━━━\u001b[0m\u001b[37m\u001b[0m \u001b[1m1s\u001b[0m 3ms/step - loss: 25771190272.0000 - mae: 127485.8047 - val_loss: 25443497984.0000 - val_mae: 126117.5234\n",
            "Epoch 98/100\n",
            "\u001b[1m413/413\u001b[0m \u001b[32m━━━━━━━━━━━━━━━━━━━━\u001b[0m\u001b[37m\u001b[0m \u001b[1m1s\u001b[0m 3ms/step - loss: 25842313216.0000 - mae: 127567.6875 - val_loss: 25073084416.0000 - val_mae: 124939.2188\n",
            "Epoch 99/100\n",
            "\u001b[1m413/413\u001b[0m \u001b[32m━━━━━━━━━━━━━━━━━━━━\u001b[0m\u001b[37m\u001b[0m \u001b[1m1s\u001b[0m 3ms/step - loss: 25375668224.0000 - mae: 125892.1016 - val_loss: 24703823872.0000 - val_mae: 123763.0156\n",
            "Epoch 100/100\n",
            "\u001b[1m413/413\u001b[0m \u001b[32m━━━━━━━━━━━━━━━━━━━━\u001b[0m\u001b[37m\u001b[0m \u001b[1m2s\u001b[0m 3ms/step - loss: 24973987840.0000 - mae: 125005.5781 - val_loss: 24341211136.0000 - val_mae: 122606.5781\n"
          ]
        }
      ]
    },
    {
      "cell_type": "code",
      "source": [
        "mse_test = model.evaluate(x_test, y_test)\n"
      ],
      "metadata": {
        "colab": {
          "base_uri": "https://localhost:8080/"
        },
        "id": "SxMIE8GSdgMD",
        "outputId": "d699248e-da40-4e51-e6e7-c36822c0bbb3"
      },
      "execution_count": 8,
      "outputs": [
        {
          "output_type": "stream",
          "name": "stdout",
          "text": [
            "\u001b[1m129/129\u001b[0m \u001b[32m━━━━━━━━━━━━━━━━━━━━\u001b[0m\u001b[37m\u001b[0m \u001b[1m0s\u001b[0m 2ms/step - loss: 24946266112.0000 - mae: 124059.5000\n"
          ]
        }
      ]
    }
  ]
}